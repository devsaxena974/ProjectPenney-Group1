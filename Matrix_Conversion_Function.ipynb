{
 "cells": [
  {
   "cell_type": "code",
   "execution_count": 1,
   "id": "da12dfeb-95ed-4501-83c2-8581c6a99a74",
   "metadata": {
    "tags": []
   },
   "outputs": [],
   "source": [
    "import re\n",
    "import pandas as pd\n",
    "import os\n",
    "import json"
   ]
  },
  {
   "cell_type": "code",
   "execution_count": 2,
   "id": "bef75637-1124-4274-8db3-fe97054e7a92",
   "metadata": {
    "tags": []
   },
   "outputs": [],
   "source": [
    "#def matrix_creator(data: str\n",
    "                   ):\n",
    "\n",
    "#    combinations = ['BBB', 'BBR', 'BRB', 'BRR', 'RBB', 'RBR', 'RRB', 'RRR']\n",
    "\n",
    "#    pattern = r\"Player 1: (\\w{3}) vs Player 2: (\\w{3}) --> Probability that Player 1 wins: ([0-9.]+)\"\n",
    "#    matches = re.findall(pattern, data)\n",
    "#\n",
    "#    matrix = pd.DataFrame(0.0, index=combinations, columns=combinations)\n",
    "#\n",
    "#    for match in matches:\n",
    "#        player1, player2, probability = match\n",
    "#        matrix.loc[player1, player2] = float(probability)\n",
    "\n",
    "#    return matrix\n",
    "\n",
    "#matrix = matrix_creator(data)\n",
    "#matrix"
   ]
  },
  {
   "cell_type": "code",
   "execution_count": null,
   "id": "ddc75688-a120-4328-b6a7-414735ca79c9",
   "metadata": {},
   "outputs": [],
   "source": [
    "win_counts_file = './game_data.json'\n",
    "\n",
    "def matrix_creator(win_counts_file):\n",
    "    combinations = ['BBB', 'BBR', 'BRB', 'BRR', 'RBB', 'RBR', 'RRB', 'RRR']\n",
    "    matrix = pd.DataFrame(0.0, index=combinations, columns=combinations)\n",
    "\n",
    "    # load the json data\n",
    "    if os.path.exists(win_counts_file):                # Check if the win counts file exists\n",
    "        with open(win_counts_file, 'r') as f:          # Open the file in read mode\n",
    "            win_counts = json.load(f)                  # Load the win counts\n",
    "            #return win_counts['player1_wins'], win_counts['player2_wins'] # Return the win counts\n",
    "    \n",
    "    num_rounds = win_counts['total_rounds_played']\n",
    "\n",
    "    games = win_counts['win_data']\n",
    "    for game in games:\n",
    "        # strip the player combos to index the matrix at correct loc\n",
    "        p1 = game[0:3]\n",
    "        p2 = game[7:10]\n",
    "        # calculate the probabilites for the win\n",
    "        num_wins = win_counts['win_data'][game]\n",
    "        prob = num_wins / num_rounds\n",
    "        \n",
    "        # save the data in the matrix\n",
    "        matrix.loc[p1, p2] = float(prob)\n",
    "\n",
    "        print(win_counts['win_data'][game])\n",
    "\n",
    "    return matrix"
   ]
  },
  {
   "cell_type": "code",
   "execution_count": null,
   "id": "4b079fe5",
   "metadata": {},
   "outputs": [],
   "source": [
    "res = matrix_creator(win_counts_file)\n",
    "res"
   ]
  }
 ],
 "metadata": {
  "kernelspec": {
   "display_name": "Python 3 (ipykernel)",
   "language": "python",
   "name": "python3"
  },
  "language_info": {
   "codemirror_mode": {
    "name": "ipython",
    "version": 3
   },
   "file_extension": ".py",
   "mimetype": "text/x-python",
   "name": "python",
   "nbconvert_exporter": "python",
   "pygments_lexer": "ipython3",
   "version": "3.11.7"
  }
 },
 "nbformat": 4,
 "nbformat_minor": 5
}
