{
 "cells": [
  {
   "cell_type": "code",
   "execution_count": 34,
   "id": "874b865d-06b5-436d-bc4c-d63094515298",
   "metadata": {},
   "outputs": [
    {
     "name": "stdout",
     "output_type": "stream",
     "text": [
      "[[0. 0. 0. 0. 0. 0. 0. 0.]\n",
      " [0. 0. 0. 0. 0. 0. 0. 0.]\n",
      " [0. 0. 0. 0. 0. 0. 0. 0.]\n",
      " [0. 0. 0. 0. 0. 0. 0. 0.]\n",
      " [0. 0. 0. 0. 0. 0. 0. 0.]\n",
      " [0. 0. 0. 0. 0. 0. 0. 0.]\n",
      " [0. 0. 0. 0. 0. 0. 0. 0.]\n",
      " [0. 0. 0. 0. 0. 0. 0. 0.]]\n",
      "[[0. 0. 0. 0. 0. 0. 0. 0.]\n",
      " [0. 0. 0. 0. 0. 0. 0. 0.]\n",
      " [0. 0. 0. 0. 0. 0. 0. 0.]\n",
      " [0. 0. 0. 0. 0. 0. 0. 0.]\n",
      " [0. 0. 0. 0. 0. 0. 0. 0.]\n",
      " [0. 0. 0. 0. 0. 0. 0. 0.]\n",
      " [0. 0. 0. 0. 0. 0. 0. 0.]\n",
      " [0. 0. 0. 0. 0. 0. 0. 0.]]\n"
     ]
    }
   ],
   "source": [
    "#this is how we will initialize the matrixes\n",
    "card_wins_matrix = np.zeros((8,8))\n",
    "trick_wins_matrix = np.zeros((8,8))\n",
    "\n",
    "print(card_wins_matrix)\n",
    "print(trick_wins_matrix)"
   ]
  },
  {
   "cell_type": "code",
   "execution_count": 35,
   "id": "38abe779-bacf-481a-8b2b-501347061b05",
   "metadata": {},
   "outputs": [
    {
     "name": "stdout",
     "output_type": "stream",
     "text": [
      "[[ 0.  1.  2.  3.  4.  5.  6.  7.]\n",
      " [ 8.  9. 10. 11. 12. 13. 14. 15.]\n",
      " [16. 17. 18. 19. 20. 21. 22. 23.]\n",
      " [24. 25. 26. 27. 28. 29. 30. 31.]\n",
      " [32. 33. 34. 35. 36. 37. 38. 39.]\n",
      " [40. 41. 42. 43. 44. 45. 46. 47.]\n",
      " [48. 49. 50. 51. 52. 53. 54. 55.]\n",
      " [56. 57. 58. 59. 60. 61. 62. 63.]]\n",
      "\n",
      "[[64. 63. 62. 61. 60. 59. 58. 57.]\n",
      " [56. 55. 54. 53. 52. 51. 50. 49.]\n",
      " [48. 47. 46. 45. 44. 43. 42. 41.]\n",
      " [40. 39. 38. 37. 36. 35. 34. 33.]\n",
      " [32. 31. 30. 29. 28. 27. 26. 25.]\n",
      " [24. 23. 22. 21. 20. 19. 18. 17.]\n",
      " [16. 15. 14. 13. 12. 11. 10.  9.]\n",
      " [ 8.  7.  6.  5.  4.  3.  2.  1.]]\n"
     ]
    }
   ],
   "source": [
    "#example of filling up the matrix\n",
    "i = 0\n",
    "for x in range(8):\n",
    "    for z in range(8):\n",
    "        card_wins_matrix[x,z] = i\n",
    "        trick_wins_matrix[x,z] = 64-i\n",
    "        i+=1\n",
    "\n",
    "print(card_wins_matrix)\n",
    "print()\n",
    "print(trick_wins_matrix)"
   ]
  },
  {
   "cell_type": "code",
   "execution_count": 36,
   "id": "1e859034-f40b-478f-ab47-95719c30d131",
   "metadata": {},
   "outputs": [],
   "source": [
    "#so this is how we are going to save the matrices\n",
    "np.save(\"card_wins.npy\",card_wins_matrix)\n",
    "np.save(\"trick_wins.npy\",trick_wins_matrix)"
   ]
  },
  {
   "cell_type": "code",
   "execution_count": 37,
   "id": "1db23076-a362-4dec-be01-d5fa5bd609f1",
   "metadata": {},
   "outputs": [],
   "source": [
    "#Here is an example of loading the saved matrices so that we can\n",
    "#use them again at a later time\n",
    "matrix1 = np.load(\"card_wins.npy\")\n",
    "matrix2 = np.load(\"trick_wins.npy\")"
   ]
  }
 ],
 "metadata": {
  "kernelspec": {
   "display_name": "Python 3 (ipykernel)",
   "language": "python",
   "name": "python3"
  },
  "language_info": {
   "codemirror_mode": {
    "name": "ipython",
    "version": 3
   },
   "file_extension": ".py",
   "mimetype": "text/x-python",
   "name": "python",
   "nbconvert_exporter": "python",
   "pygments_lexer": "ipython3",
   "version": "3.11.0"
  }
 },
 "nbformat": 4,
 "nbformat_minor": 5
}
