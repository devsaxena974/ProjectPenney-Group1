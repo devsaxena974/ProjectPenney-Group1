{
 "cells": [
  {
   "cell_type": "code",
   "execution_count": 1,
   "metadata": {},
   "outputs": [],
   "source": [
    "import seaborn as sns\n",
    "import matplotlib.pyplot as plt\n",
    "from  matplotlib.colors import LinearSegmentedColormap\n",
    "import numpy as np\n",
    "import pandas as pd"
   ]
  },
  {
   "cell_type": "code",
   "execution_count": null,
   "metadata": {},
   "outputs": [],
   "source": [
    "#Initialize dummy matrices\n",
    "card_wins_matrix = np.zeros((8,8))\n",
    "trick_wins_matrix = np.zeros((8,8))\n",
    "#print(card_wins_matrix)\n",
    "#print(trick_wins_matrix)\n",
    "\n",
    "#Fill dummy matrices\n",
    "i = 0\n",
    "for x in range(8):\n",
    "    for z in range(8):\n",
    "        card_wins_matrix[x,z] = i\n",
    "        trick_wins_matrix[x,z] = 64-i\n",
    "        i+=1\n",
    "\n",
    "#Save dummy matrices\n",
    "np.save(\"card_wins.npy\",card_wins_matrix)\n",
    "np.save(\"trick_wins.npy\",trick_wins_matrix)"
   ]
  },
  {
   "cell_type": "code",
   "execution_count": 2,
   "metadata": {},
   "outputs": [],
   "source": [
    "sequences = ['BBB', 'BBR', 'BRB', 'BRR', 'RBB', 'RBR', 'RRB', 'RRR']\n",
    "def create_heatmaps(card_wins = 'card_wins.npy', trick_wins = 'trick_wins.npy'):\n",
    "\n",
    "    card_wins_matrix = np.load(card_wins)\n",
    "    trick_wins_matrix = np.load(trick_wins)\n",
    "\n",
    "    card_wins_df = pd.DataFrame(card_wins_matrix, index = sequences, columns = sequences)\n",
    "    trick_wins_df = pd.DataFrame(trick_wins_matrix, index = sequences, columns = sequences)\n",
    "\n",
    "    #Heatmap for number of cards\n",
    "    plt.figure(figsize=(10,8))\n",
    "    sns.heatmap(card_wins_df,\n",
    "                annot=True,\n",
    "                cmap=LinearSegmentedColormap.from_list('rg',[\"r\", \"w\", \"g\"], N=256),\n",
    "                linewidths=.5,\n",
    "                cbar_kws={'label': 'Win Probability'})\n",
    "    plt.title('Win Probabilities for Card Wins')\n",
    "    plt.xlabel('Player 2 Choice')\n",
    "    plt.ylabel('Player 1 Choice')\n",
    "    plt.show()\n",
    "\n",
    "    #Heatmap for number of tricks\n",
    "    plt.figure(figsize=(10,8))\n",
    "    sns.heatmap(trick_wins_df,\n",
    "                annot=True,\n",
    "                cmap=LinearSegmentedColormap.from_list('rg',[\"r\", \"w\", \"g\"], N=256),\n",
    "                linewidths=.5,\n",
    "                cbar_kws={'label': 'Win Probability'})\n",
    "    plt.title('Win Probabilities for Trick Wins')\n",
    "    plt.xlabel('Player 2 Choice')\n",
    "    plt.ylabel('Player 1 Choice')\n",
    "    plt.show()"
   ]
  },
  {
   "cell_type": "code",
   "execution_count": null,
   "metadata": {},
   "outputs": [],
   "source": []
  }
 ],
 "metadata": {
  "kernelspec": {
   "display_name": "base",
   "language": "python",
   "name": "python3"
  },
  "language_info": {
   "codemirror_mode": {
    "name": "ipython",
    "version": 3
   },
   "file_extension": ".py",
   "mimetype": "text/x-python",
   "name": "python",
   "nbconvert_exporter": "python",
   "pygments_lexer": "ipython3",
   "version": "3.11.7"
  }
 },
 "nbformat": 4,
 "nbformat_minor": 2
}
