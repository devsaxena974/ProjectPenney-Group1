{
 "cells": [
  {
   "cell_type": "code",
   "execution_count": 6,
   "metadata": {},
   "outputs": [],
   "source": [
    "import seaborn as sns\n",
    "import matplotlib.pyplot as plt\n",
    "from  matplotlib.colors import LinearSegmentedColormap\n",
    "import numpy as np\n",
    "import pandas as pd"
   ]
  },
  {
   "cell_type": "code",
   "execution_count": 7,
   "metadata": {},
   "outputs": [
    {
     "name": "stdout",
     "output_type": "stream",
     "text": [
      "[[ 0.  1.  2.  3.  4.  5.  6.  7.]\n",
      " [ 8.  9. 10. 11. 12. 13. 14. 15.]\n",
      " [16. 17. 18. 19. 20. 21. 22. 23.]\n",
      " [24. 25. 26. 27. 28. 29. 30. 31.]\n",
      " [32. 33. 34. 35. 36. 37. 38. 39.]\n",
      " [40. 41. 42. 43. 44. 45. 46. 47.]\n",
      " [48. 49. 50. 51. 52. 53. 54. 55.]\n",
      " [56. 57. 58. 59. 60. 61. 62. 63.]]\n",
      "[[64. 63. 62. 61. 60. 59. 58. 57.]\n",
      " [56. 55. 54. 53. 52. 51. 50. 49.]\n",
      " [48. 47. 46. 45. 44. 43. 42. 41.]\n",
      " [40. 39. 38. 37. 36. 35. 34. 33.]\n",
      " [32. 31. 30. 29. 28. 27. 26. 25.]\n",
      " [24. 23. 22. 21. 20. 19. 18. 17.]\n",
      " [16. 15. 14. 13. 12. 11. 10.  9.]\n",
      " [ 8.  7.  6.  5.  4.  3.  2.  1.]]\n"
     ]
    }
   ],
   "source": [
    "#Initialize dummy matrices\n",
    "card_wins_matrix = np.zeros((8,8))\n",
    "trick_wins_matrix = np.zeros((8,8))\n",
    "\n",
    "#Fill dummy matrices\n",
    "i = 0\n",
    "for x in range(8):\n",
    "    for z in range(8):\n",
    "        card_wins_matrix[x,z] = i\n",
    "        trick_wins_matrix[x,z] = 64-i\n",
    "        i+=1\n",
    "\n",
    "print(card_wins_matrix)\n",
    "print(trick_wins_matrix)\n",
    "#Save dummy matrices\n",
    "np.save(\"card_wins.npy\",card_wins_matrix)\n",
    "np.save(\"trick_wins.npy\",trick_wins_matrix)"
   ]
  },
  {
   "cell_type": "code",
   "execution_count": 9,
   "metadata": {},
   "outputs": [],
   "source": [
    "sequences = ['BBB', 'BBR', 'BRB', 'BRR', 'RBB', 'RBR', 'RRB', 'RRR']\n",
    "def create_heatmaps(card_wins = 'card_wins.npy', trick_wins = 'trick_wins.npy'):\n",
    "   \n",
    "    card_wins_matrix = np.load(card_wins)\n",
    "    trick_wins_matrix = np.load(trick_wins)\n",
    "\n",
    "    card_wins_df = pd.DataFrame(card_wins_matrix, index = sequences, columns = sequences)\n",
    "    trick_wins_df = pd.DataFrame(trick_wins_matrix, index = sequences, columns = sequences)\n",
    "\n",
    "    #Heatmap for number of cards\n",
    "    plt.figure(figsize=(10,8))\n",
    "    sns.heatmap(card_wins_df,\n",
    "                annot=True,\n",
    "                cmap=LinearSegmentedColormap.from_list('rg',[\"r\", \"w\", \"g\"], N=256),\n",
    "                linewidths=.5,\n",
    "                cbar_kws={'label': 'Win Probability'})\n",
    "    plt.title('Win Probabilities for Card Wins')\n",
    "    plt.xlabel('Player 2 Choice')\n",
    "    plt.ylabel('Player 1 Choice')\n",
    "    plt.savefig('figures/p2_card_probs.png', bbox_inches = 'tight')\n",
    "\n",
    "    #Heatmap for number of tricks\n",
    "    plt.figure(figsize=(10,8))\n",
    "    sns.heatmap(trick_wins_df,\n",
    "                annot=True,\n",
    "                cmap=LinearSegmentedColormap.from_list('rg',[\"r\", \"w\", \"g\"], N=256),\n",
    "                linewidths=.5,\n",
    "                cbar_kws={'label': 'Win Probability'})\n",
    "    plt.title('Win Probabilities for Trick Wins')\n",
    "    plt.xlabel('Player 2 Choice')\n",
    "    plt.ylabel('Player 1 Choice')\n",
    "    plt.savefig('figures/p2_trick_probs.png', bbox_inches = 'tight')"
   ]
  },
  {
   "cell_type": "code",
   "execution_count": null,
   "metadata": {},
   "outputs": [],
   "source": [
    "create_heatmaps()"
   ]
  }
 ],
 "metadata": {
  "kernelspec": {
   "display_name": "base",
   "language": "python",
   "name": "python3"
  },
  "language_info": {
   "codemirror_mode": {
    "name": "ipython",
    "version": 3
   },
   "file_extension": ".py",
   "mimetype": "text/x-python",
   "name": "python",
   "nbconvert_exporter": "python",
   "pygments_lexer": "ipython3",
   "version": "3.11.7"
  }
 },
 "nbformat": 4,
 "nbformat_minor": 2
}
